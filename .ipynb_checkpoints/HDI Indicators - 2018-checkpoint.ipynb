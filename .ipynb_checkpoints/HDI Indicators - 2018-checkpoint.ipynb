{
 "cells": [
  {
   "cell_type": "markdown",
   "metadata": {},
   "source": [
    "## Human Development Indicators and Indices - 2018\n",
    "### Overview\n",
    "This database consists of 20 statistical tables that serve as a general overview of key aspects of human development. We will use the first five tables relate to the five composite human development indices and their components, and will be the source of our dataset. \n",
    "\n",
    "### Summary of Datasets\n",
    "*The following descriptions of each table were adapted from \"Human Development Indicators and Indices 2018 Statistical Update: Reader's Guide\"*\n",
    "- Table 1: Human Development Index and its components - ranks countries by 2017 HDI value and details the values of the three HDI components: longevity, education (with two indicators) and income per capita. The table also presents the difference in rankings by HDI value and gross national income per capita, as well as the rank on the 2016 HDI, calculated using the most recently revised historical data available in 2018.\n",
    "- Table 2: Human Development Index trends - 1990–2017, provides a time series of HDI values allowing 2017 HDI values to be compared with those for previous years. The table uses the most recently revised historical data available in 2018 and the same methodology applied to compute 2017 HDI values. The table also includes the change in HDI rank over the last five years and the average annual HDI growth rate across four time intervals: 1990–2000, 2000–2010, 2010–2017 and 1990–2017.\n",
    "- Table 3: Inequality-adjusted Human Development Index - contains two related measures of inequality—the IHDI and the loss in HDI due to inequality. The IHDI looks beyond the average achievements of a country in longevity, education and income to show how these achievements are distributed among its residents. The IHDI value can be interpreted as the level of human development when inequality is accounted for. The rel- ative difference between IHDI and HDI values is the loss due to inequality in distribution of the HDI within the country. The table presents the coefficient of human inequality, which is the unweighted average of inequalities in the three dimensions. In addition, the table shows each country’s difference in rank on the HDI and the IHDI. A negative value means that taking inequality into account lowers a country’s rank on the HDI. The table also presents three standard measures of income inequality: the ratio of the top and the bottom quintiles; the Palma ratio, which is the ratio of income of the top 10 percent and the bottom 40 percent; and the Gini coefficient.\n",
    "- Table 4: Gender Development Index - measures dispar- ities on the HDI by gender. The table contains HDI values estimated separately for women and men; the ratio of which is the GDI value. The closer the ratio is to 1, the smaller the gap between women and men. Values for the three HDI compo- nents—longevity, education (with two indicators) and income per capita—are also presented by gender. The table includes five country groupings by absolute deviation from gender parity in HDI values.\n",
    "- Table 5: Gender Inequality Index - presents a composite measure of gender inequality using three dimensions: repro- ductive health, empowerment and the labour market. The reproductive health indicators are the maternal mortality ratio and the adolescent birth rate. The empowerment indicators are the share of parliamentary seats held by women and the share of population with at least some secondary education by gender. The labour market indicator is participation in the labour force by gender. A low GII value indicates low inequality between women and men, and vice-versa.\n",
    "\n",
    "### Source\n",
    "This dataset was created by using the database by the United Nations Development Programme - Human Development Reports (link: http://hdr.undp.org/end/data).\n",
    "\n",
    "\n",
    "### Data Visualization \n",
    "![alt text](plot1.png \"Plot 1\")\n",
    "![alt text](plot2.png \"Plot 2\")\n",
    "![alt text](plot3.png \"Plot 3\")\n",
    "![alt text](plot4.png \"Plot 4\")\n",
    "![alt text](plot5.png \"Plot 5\")\n",
    "\n",
    "### Findings\n",
    "Although the plots above barely scratch the surface of what can be done with this dataset, they do indicate some interesting trends. As the United States has consistently had a low level of women in government, I explored the different ways this could occur given the HDI indicators. \n",
    "\n",
    "The first plot, for instance, show that Latin American and Sub-Saharan Africa Regions have, in general, a higher rate of the percent women are represented in government. Typically these regions are thought to have weak institutions, so this may at first seem like a surprise. However, it is important to note that this is simply for the past year's government. So while we may think of equal representation indicating a strong state, this may not be the best way to see if change is actually occurring for gender equality and HDI.\n",
    "\n",
    "The second two plots look at how one indicator of gender equality is related to this percentage of women in government. The first plot uses all states and shows a positive significant relationship between years expected of schooling (female) and percent of women in government, but when we break this into HDI level categories, we see that only states that are in the \"Very High\" level of HDI or \"Medium\" level of HDI have significant relationships. This starts to explain the underlying trends that we missed in our initial graph, as the Medium group is almost exclusively states from Latin America or Sub-Saharan Africa. \n",
    "\n",
    "Finally, the last two plots further explore how HDI level and gender equality are related. While further analysis and empirical, individual state level analysis is needed to fully understand and theorize how human development, economic development, and gender equality are all related.  "
   ]
  }
 ],
 "metadata": {
  "kernelspec": {
   "display_name": "Python 3",
   "language": "python",
   "name": "python3"
  },
  "language_info": {
   "codemirror_mode": {
    "name": "ipython",
    "version": 3
   },
   "file_extension": ".py",
   "mimetype": "text/x-python",
   "name": "python",
   "nbconvert_exporter": "python",
   "pygments_lexer": "ipython3",
   "version": "3.7.0"
  }
 },
 "nbformat": 4,
 "nbformat_minor": 2
}
