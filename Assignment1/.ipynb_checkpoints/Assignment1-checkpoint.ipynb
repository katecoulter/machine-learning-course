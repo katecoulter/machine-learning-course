{
 "cells": [
  {
   "cell_type": "markdown",
   "metadata": {},
   "source": [
    "# Assignment 1 - Probability, Linear Algebra, Programming, and Git\n",
    "\n",
    "## Kate Coulter\n",
    "Netid:  kvc6"
   ]
  },
  {
   "cell_type": "markdown",
   "metadata": {},
   "source": [
    "# Probability and Statistics Theory"
   ]
  },
  {
   "cell_type": "markdown",
   "metadata": {
    "collapsed": true
   },
   "source": [
    "## 1\n",
    "Let $f(x) = \\begin{cases}\n",
    "                0           & x < 0  \\\\\n",
    "                \\alpha x^2  & 0 \\leq x \\leq 2 \\\\\n",
    "                0           & 2 < x\n",
    "            \\end{cases}$\n",
    "            \n",
    "For what value of $\\alpha$ is $f(x)$ a valid probability density function?\n",
    "\n",
    "*Note: for all assignments, write out all equations and math for all assignments using markdown and [LaTeX](https://tobi.oetiker.ch/lshort/lshort.pdf) and show all work*"
   ]
  },
  {
   "cell_type": "markdown",
   "metadata": {},
   "source": [
    "**ANSWER**\n",
    "\n"
   ]
  },
  {
   "cell_type": "markdown",
   "metadata": {},
   "source": [
    "$$\\int_{0}^{2} a x^2 \\,dx = 1$$\n",
    "$$\\frac{a}{3} x^3 \\Big|_0^2 = \\frac{8}{3}a = 1$$\n",
    "$$a = \\frac{3}{8}$$\n",
    "\n"
   ]
  },
  {
   "cell_type": "markdown",
   "metadata": {},
   "source": [
    "## 2\n",
    "What is the cumulative distribution function (CDF) that corresponds to the following probability distribution function? Please state the value of the CDF for all possible values of $x$.\n",
    "\n",
    "$f(x) = \\begin{cases}\n",
    "    \\frac{1}{3} & 0 < x < 3 \\\\\n",
    "    0           & \\text{otherwise}\n",
    "    \\end{cases}$"
   ]
  },
  {
   "cell_type": "markdown",
   "metadata": {},
   "source": [
    "**ANSWER**\n",
    "\n"
   ]
  },
  {
   "cell_type": "markdown",
   "metadata": {},
   "source": [
    "Note the definition for a CDF $F(x)$ given a PDF $f(x)$ is: $F_x (t) = P(x \\leq t)$. Thus we know the following:\n",
    "-  If $x < 0$, then $f_x (t) = 0$ for all $t \\leq x$ so that we have\n",
    "\\begin{align} F(x) &= \\int_{-\\infty}^{0} f(t) \\,dt = \\int_{-\\infty}^{0} 0 \\,dt = 0\n",
    "\\end{align}\n",
    "<br>\n",
    "- If $0 < x < 3$, then $f_x (t) = \\frac{1}{3}$ for all $0 < t \\leq x$ so  that we have\n",
    "\\begin{align} F(x) = F(0) + \\int_{0}^{x} \\frac{1}{3} \\,dt = 0 + \\frac{1}{3}t \\Big|_{t=0}^x = \\frac{1}{3} x\\end{align}\n",
    "\n",
    "- If $x \\geq 3$, then $f_x (t) = 0$ for all $3 \\leq t \\leq x$ so that we have\n",
    "\\begin{align}\n",
    "F(x) = F(3) + \\int_{3}^{x} f(t) \\,dt = 1\n",
    "\\end{align}\n",
    "\n",
    "Which results in the following CDF:\n",
    "\\begin{equation} F(x) = \n",
    " \\begin{cases} \n",
    "      0 & x \\leq 0 \\\\\n",
    "      \\frac{1}{3} x & 0 < x < 3 \\\\\n",
    "      1 & x \\geq 3 \n",
    "   \\end{cases}\n",
    "   \\end{equation}\n",
    "\n"
   ]
  },
  {
   "cell_type": "markdown",
   "metadata": {},
   "source": [
    "## 3\n",
    "For the probability distribution function for the random variable $X$,\n",
    "\n",
    "$f(x) = \\begin{cases}\n",
    "    \\frac{1}{3} & 0 < x < 3 \\\\\n",
    "    0           & \\text{otherwise}\n",
    "    \\end{cases}$\n",
    "    \n",
    "what is the (a) expected value and (b) variance of $X$. *Show all work*."
   ]
  },
  {
   "cell_type": "markdown",
   "metadata": {},
   "source": [
    "**ANSWER**\n",
    "$\\newcommand{\\E}{\\mathrm{E}}$\n",
    "$\\newcommand{\\Var}{\\mathrm{Var}}$\n",
    "\n",
    "(a) Using the definition of **expected value**,<br>\n",
    "\\begin{align}\n",
    "\\E(x) &= \\int_{-\\infty}^{\\infty} x f(x) \\,dx \\\\\n",
    "&= \\int_{-\\infty}^{\\infty} \\frac{1}{3} x \\,dx = \\int_{0}^{3} \\frac{1}{3} x \\,dx \\\\\n",
    "&= \\frac{1}{6} x^2 \\Big|_{x=0}^3 = \\frac{1}{6} (3^2) - 0 \\\\\n",
    "&= \\frac{3}{2}\n",
    "\\end{align}\n"
   ]
  },
  {
   "cell_type": "markdown",
   "metadata": {},
   "source": [
    "\n",
    "(b) Using the definition of **variance**,<br>\n",
    "\\begin{align}\n",
    "\\Var(x) &= \\int_{-\\infty}^{\\infty} [x - E(x)] ^2 f(x) \\,dx \\\\\n",
    "&= \\int_0^3 \\left(x - \\frac{3}{2} \\right) ^2 \\frac{1}{3} \\,dx \\\\\n",
    "&= \\int_0^3 \\frac{1}{3} \\left( x^2 - 3x + \\frac{9}{4} \\right) \\\\\n",
    "&= \\frac{1}{3} \\left[ \\left(\\frac{1}{3} x^3 - \\frac{3}{2} x^2 + \\frac{9}{4} x \\right)\\Big|_{x=0}^3 \\right] \\\\\n",
    "&= \\frac{9}{4} - \\frac{9}{2} - \\frac{9}{3} \\\\\n",
    "&= \\frac{3}{4}\n",
    "\\end{align}"
   ]
  },
  {
   "cell_type": "markdown",
   "metadata": {},
   "source": [
    "## 4\n",
    "Consider the following table of data that provides the values of a discrete data vector $\\mathbf{x}$ of samples from the random variable $X$, where each entry in $\\mathbf{x}$ is given as $x_i$.\n",
    "\n",
    "*Table 1. Dataset N=5 observations*\n",
    "\n",
    "\\begin{array}{|c|c|c|c|c|c|}\n",
    "\\hline\n",
    " & x_0 & x_1 & x_2 & x_3 & x_4 \\\\\n",
    "\\hline\n",
    "\\textbf{x} & 2 & 3 & 10 & -1 & -1 \\\\\n",
    "\\hline\n",
    "\\end{array}\n",
    "\n",
    "\n",
    "What is the (a) mean, (b) variance, and the  of the data? \n",
    "\n",
    "*Show all work. Your answer should include the definition of mean, median, and variance in the context of discrete data.*"
   ]
  },
  {
   "cell_type": "markdown",
   "metadata": {},
   "source": [
    "**ANSWER**<br>\n",
    "Note that for a finite list of discrete numbers, we will use the following definitions:\n",
    "- The **mean**, $\\bar{x}$, of that list is defined as:\n",
    "\\begin{equation}\n",
    "\\bar{x} = \\frac{1}{n} \\sum_{i=1}^{n} x_i\n",
    "\\end{equation}\n",
    "where each data point is represented by $x_i$ and the amount of data points in the list is represented by $n$. Note that the term **average** also can be used to refer to the mean value.\n",
    "<br><br>\n",
    "- The **median** of that list is an order statistic that gives the \"middle\" value, denoted as $\\tilde{x}$. Specifically, when $n$ is an odd number, $\\tilde{x}$ is the value such that an equal number of samples are less than and greater than the value or, when $n$ is an even number, $\\tilde{x}$ is the average of the two central values.\n",
    "<br><br>\n",
    "- The **variance**, $s^2$, of that list is defined as:\n",
    "\\begin{equation}\n",
    "s^2 = \\frac{1}{n} \\sum_{i=1}^{n} \\left( x_i - \\bar{x} \\right) ^{2}\n",
    "\\end{equation}\n",
    "\n",
    "Note that the variance $s^2$ defined above is not an unbiased estimator for the population variance $\\sigma^2$. In order to obtain an unbiased estimator for $\\sigma^2$, the following computation must be used:\n",
    "\\begin{equation}\n",
    "s^2 = \\frac{1}{n-1} \\sum_{i=1}^{n} \\left( x_i - \\bar{x} \\right) ^{2}\n",
    "\\end{equation}\n",
    "<br><br>\n",
    "We will now find the mean and variance values for the given discrete data vector.<br>\n",
    "(a) Mean:<br>\n",
    "\\begin{align}\n",
    "\\bar{x} &= \\frac{1}{n} \\sum_{i=1}^{n} x_i & \\\\\n",
    "&= \\frac{1}{5} (2+3+10+(-1)+(-1)) & \\\\\n",
    "&= \\frac{13}{5} & \\\\\n",
    "&= 2.6\n",
    "\\end{align}"
   ]
  },
  {
   "cell_type": "markdown",
   "metadata": {},
   "source": [
    "\n",
    "(b) Variance:<br>\n",
    "\\begin{align}\n",
    "s^2 &= \\frac{1}{n} \\sum_{i=1}^{n} \\left( x_i - \\bar{x} \\right) ^{2} \\\\\n",
    "&= \\frac{1}{5} \\left[ (2-2.6)^2 + (3-2.6)^2 + (10-2.6)^2 \\\\\n",
    "+ (-1-2.6)^2 + (-1-2.6)^2 \\right] \\\\\n",
    "&= \\frac{0.36+0.16+54.76+12.96+12.96}{5} \\\\\n",
    "&= \\frac{81.2}{5} \\\\\n",
    "&= 16.24\n",
    "\\end{align}"
   ]
  },
  {
   "cell_type": "markdown",
   "metadata": {},
   "source": [
    "## 5\n",
    "Review of counting from probability theory. \n",
    "\n",
    "(a) How many different 7-place license plates are possible if the first 3 places only contain letters and the last 4 only contain numbers?\n",
    "\n",
    "(b) How many different batting orders are possible for a baseball team with 9 players?\n",
    "\n",
    "(c) How many batting orders of 5 players are possible for a team with 9 players total?\n",
    "\n",
    "(d) Let's assume this class has 26 students and we want to form project teams. How many unique teams of 3 are possible?\n",
    "\n",
    "*Hint: For each problem, determine if order matters, and if it should be calculated with or without replacement.*"
   ]
  },
  {
   "cell_type": "markdown",
   "metadata": {},
   "source": [
    "**ANSWER**\n",
    "\n",
    "(a) Assuming repetition is allowed, so 26 choices for each letter position and 10 choices for each number position, which is given by:\n",
    "$$26 \\cdot 26 \\cdot 26 \\cdot 10 \\cdot 10 \\cdot 10 \\cdot 10 = (26^3)(10^4) = 175,760,000$$\n",
    "\n",
    "(b) Total possible ways to arrange 9 players is given by:\n",
    "$$9! = 362,880$$\n",
    "\n",
    "(c) Total possible ways to choose 5 from 9 is given by:\n",
    "$$\\frac{n!}{(n-k)!} = \\frac{9!}{(9-5)!} = \\frac{9!}{4!} = 15,120$$\n",
    "\n",
    "(d) Binomial coefficient problem, given by:\n",
    "$${n \\choose k} = \\frac{n!}{k!(n-k)!} = \\frac{26!}{3!(26-3)!} = \\frac{26 \\cdot 25 \\cdot 24}{6} = 2,600$$\n",
    "\n"
   ]
  },
  {
   "cell_type": "markdown",
   "metadata": {},
   "source": [
    "# Linear Algebra"
   ]
  },
  {
   "cell_type": "markdown",
   "metadata": {},
   "source": [
    "## 6 - part (a)\n",
    "**Matrix manipulations and multiplication**. Machine learning involves working with many matrices, so this exercise will provide you with the opportunity to practice those skills.\n",
    "\n",
    "Let\n",
    "$\\mathbf{A} =  \\begin{bmatrix}\n",
    "1 & 2 & 3 \\\\\n",
    "2 & 4 & 5 \\\\\n",
    "3 & 5 & 6 \n",
    "\\end{bmatrix}$, $\\mathbf{b} =  \\begin{bmatrix}\n",
    "-1  \\\\\n",
    "3  \\\\\n",
    "8  \n",
    "\\end{bmatrix}$, $\\mathbf{c} =  \\begin{bmatrix}\n",
    "4  \\\\\n",
    "-3  \\\\\n",
    "6  \n",
    "\\end{bmatrix}$, and $\\mathbf{I} = \\begin{bmatrix}\n",
    "1 & 0 & 0 \\\\\n",
    "0 & 1 & 0 \\\\\n",
    "0 & 0 & 1 \n",
    "\\end{bmatrix}$\n",
    "\n",
    "Compute the following or indicate that it cannot be computed:\n",
    "\n",
    "1. $\\mathbf{A}\\mathbf{A}$\n",
    "2. $\\mathbf{A}\\mathbf{A}^T$ \n",
    "3. $\\mathbf{A}\\mathbf{b}$ \n",
    "4. $\\mathbf{A}\\mathbf{b}^T$\n",
    "5. $\\mathbf{b}\\mathbf{A}$\n",
    "6. $\\mathbf{b}^T\\mathbf{A}$\n",
    "7. $\\mathbf{b}\\mathbf{b}$\n",
    "8. $\\mathbf{b}^T\\mathbf{b}$\n",
    "9. $\\mathbf{b}\\mathbf{b}^T$\n",
    "10. $\\mathbf{b}+\\mathbf{c}^T$\n",
    "11. $\\mathbf{b}^T\\mathbf{b}^T$\n",
    "12. $\\mathbf{A}^{-1}\\mathbf{b}$\n",
    "13. $\\mathbf{A}\\circ\\mathbf{A}$\n",
    "14. $\\mathbf{b}\\circ\\mathbf{c}$\n",
    "\n",
    "*Note: The element-wise (or Hadamard) product is the product of each element in one matrix with the corresponding element in another matrix, and is represented by the symbol \"$\\circ$\".*"
   ]
  },
  {
   "cell_type": "markdown",
   "metadata": {},
   "source": [
    "**ANSWER**\n",
    "1. \n",
    "$\\mathbf{A}\\mathbf{A} =\n",
    "\\begin{bmatrix}\n",
    "1 & 2 & 3 \\\\\n",
    "2 & 4 & 5 \\\\\n",
    "3 & 5 & 6 \n",
    "\\end{bmatrix}\n",
    "\\begin{bmatrix}\n",
    "1 & 2 & 3 \\\\\n",
    "2 & 4 & 5 \\\\\n",
    "3 & 5 & 6 \n",
    "\\end{bmatrix} =\n",
    "\\begin{bmatrix}\n",
    "14 & 25 & 31 \\\\\n",
    "25 & 45 & 56 \\\\\n",
    "31 & 56 & 70\n",
    "\\end{bmatrix}$"
   ]
  },
  {
   "cell_type": "markdown",
   "metadata": {},
   "source": [
    "2. $\\mathbf{A}\\mathbf{A}^T =\n",
    "\\begin{bmatrix}\n",
    "1 & 2 & 3 \\\\\n",
    "2 & 4 & 5 \\\\\n",
    "3 & 5 & 6 \n",
    "\\end{bmatrix}\n",
    "\\begin{bmatrix}\n",
    "1 & 2 & 3 \\\\\n",
    "2 & 4 & 5 \\\\\n",
    "3 & 5 & 6 \n",
    "\\end{bmatrix} = \n",
    "\\begin{bmatrix}\n",
    "14 & 25 & 31 \\\\\n",
    "25 & 45 & 56 \\\\\n",
    "31 & 56 & 70\n",
    "\\end{bmatrix}$"
   ]
  },
  {
   "cell_type": "markdown",
   "metadata": {},
   "source": [
    "\n",
    "3. $\\mathbf{A}\\mathbf{b} =\n",
    "\\begin{bmatrix}\n",
    "1 & 2 & 3 \\\\\n",
    "2 & 4 & 5 \\\\\n",
    "3 & 5 & 6 \n",
    "\\end{bmatrix}\n",
    "\\begin{bmatrix}\n",
    "-1  \\\\\n",
    "3  \\\\\n",
    "8  \n",
    "\\end{bmatrix} =\n",
    "\\begin{bmatrix}\n",
    "29 \\\\\n",
    "50 \\\\\n",
    "60 \\\\\n",
    "\\end{bmatrix}$"
   ]
  },
  {
   "cell_type": "markdown",
   "metadata": {},
   "source": [
    "4. $\\mathbf{A}\\mathbf{b}^T$ cannot be computed because in order for two matrices to be multiplied the number of columns of the first matrix must equal the number of rows of the second matrix. In this case, the first matrix, **A**, has 3 columns whereas the second matrix, $\\mathbf{b^T} = [-1\\ \\ 3\\ \\ 8]$, only has 1 row."
   ]
  },
  {
   "cell_type": "markdown",
   "metadata": {},
   "source": [
    "5. $\\mathbf{b}\\mathbf{A}$ cannot be computed due to the dimensions of the matrices as $\\mathbf{b}$ has 1 column while $\\mathbf{A}$ has 3 rows."
   ]
  },
  {
   "cell_type": "markdown",
   "metadata": {},
   "source": [
    "6. $\\mathbf{b}^T\\mathbf{A} =\n",
    "\\begin{bmatrix}\n",
    "1 & 3 & 8\n",
    "\\end{bmatrix}\n",
    "\\begin{bmatrix}\n",
    "1 & 2 & 3 \\\\\n",
    "2 & 4 & 5 \\\\\n",
    "3 & 5 & 6 \n",
    "\\end{bmatrix} = \n",
    "\\begin{bmatrix}\n",
    "29 & 50 & 60\n",
    "\\end{bmatrix}$"
   ]
  },
  {
   "cell_type": "markdown",
   "metadata": {},
   "source": [
    "7. $\\mathbf{b}\\mathbf{b}$ cannot be computed due to the dimensions of the matrices as $\\mathbf{b}$ has 1 column while $\\mathbf{b}$ has 3 rows.\n"
   ]
  },
  {
   "cell_type": "markdown",
   "metadata": {},
   "source": [
    "8. $\\mathbf{b}^T\\mathbf{b} =\n",
    "\\begin{bmatrix}\n",
    "1 & 3 & 8\n",
    "\\end{bmatrix}\n",
    "\\begin{bmatrix}\n",
    "-1  \\\\\n",
    "3  \\\\\n",
    "8  \n",
    "\\end{bmatrix} =\n",
    "74$"
   ]
  },
  {
   "cell_type": "markdown",
   "metadata": {},
   "source": [
    "9. $\\mathbf{b}\\mathbf{b}^T =\n",
    "\\begin{bmatrix}\n",
    "-1  \\\\\n",
    "3  \\\\\n",
    "8  \n",
    "\\end{bmatrix}\n",
    "\\begin{bmatrix}\n",
    "1 & 3 & 8\n",
    "\\end{bmatrix} =\n",
    "\\begin{bmatrix}\n",
    "1 & -3 & -8 \\\\\n",
    "-3 & 9 & 24 \\\\\n",
    "-8 & 24 & 64 \n",
    "\\end{bmatrix}$"
   ]
  },
  {
   "cell_type": "markdown",
   "metadata": {},
   "source": [
    "10. $\\mathbf{b} + \\mathbf{c}^T$ cannot be computed due to the dimensions of the matrices not being equal, as $\\mathbf{b}$ has dimensions $(3 x 1)$ and $\\mathbf{c}^T$ has dimensions $(1 x 3)$."
   ]
  },
  {
   "cell_type": "markdown",
   "metadata": {},
   "source": [
    "11. $\\mathbf{b}^T\\mathbf{b}^T$ cannot be computed due to the dimensions of the matrices as $\\mathbf{b}^T$ has 3 columns while $\\mathbf{b}^T$ has 1 row."
   ]
  },
  {
   "cell_type": "markdown",
   "metadata": {},
   "source": [
    "$\\newcommand{\\det}{\\mathrm{det}}$\n",
    "$\\newcommand{\\adj}{\\mathrm{adj}}$\n",
    "12. $\\mathbf{A}^{-1}\\mathbf{b}$: to begin, we will need to find $\\mathbf{A}^{-1}$. To find $\\mathbf{A}^{I}$ we will use the Gauss-Jordan method on the following property:\n",
    "$$[\\begin{array}{c|c} \n",
    "\\mathbf{A} & \\mathbf{I} \n",
    "\\end{array}] = \n",
    "[\\begin{array}{c|c} \n",
    "\\mathbf{I} & \\mathbf{A}^{-1}\n",
    "\\end{array}]$$\n",
    "\n",
    "$$\n",
    "\\left[\\begin{array}{c|c}\n",
    "\\mathbf{A} & \\mathbf{I}\n",
    "\\end{array}\\right] \n",
    "=\n",
    "\\left[\\begin{array}{ccc|ccc}\n",
    "1&2&3 &1&0&0 \\\\\n",
    "2&4&5 &0&1&0 \\\\\n",
    "3&5&6 &0&0&1\n",
    "\\end{array}\\right] \n",
    "$$\n",
    "$$\n",
    "\\left[\\begin{array}{ccc|ccc}\n",
    "3&5&6 &0&0&1 \\\\\n",
    "2&4&5 &0&1&0 \\\\\n",
    "1&2&3 &1&0&0\n",
    "\\end{array}\\right] \n",
    "$$\n",
    "\n",
    "&emsp;*We will transform this matrix into row echelon form using the following elementary row operations:*\n",
    "&emsp;1. $R_1 = R_3$\n",
    "&emsp;2. $R_2 = R_2 - \\frac{2}{3} R_1$\n",
    "&emsp;3. $R_3 = R_3 - \\frac{1}{3} R_1$\n",
    "&emsp;4. $R_3 = R_3 - \\frac{1}{2} R_2$\n",
    "\n",
    "$$\n",
    "\\xrightarrow{reduced}\n",
    "\\left[\\begin{array}{ccc|ccc}\n",
    "3&5&6 &0&0&1 \\\\\n",
    "0 & 2/3 & 1 &0&1&-2/3 \\\\\n",
    "0&0&1/2 &2&-1&0\n",
    "\\end{array}\\right] \n",
    "$$\n",
    "&emsp;*We will now transform our row echelon form matrix to its reduced form using the following operations:*\n",
    "&emsp;5. $R_3 = 2R_3$\n",
    "&emsp;6. $R_2 = R_2 - R_3$\n",
    "&emsp;7. $R_1 = R_1 - 6R_3$\n",
    "&emsp;8. $R_2 = \\frac{3}{2}R_2$\n",
    "&emsp;9. $R_1 = R_1 - 5R_2$\n",
    "&emsp;10. $R_1 = \\frac{1}{3}R_1$\n",
    "$$\n",
    "\\xrightarrow{reduced}\n",
    "\\left[\\begin{array}{ccc|ccc}\n",
    "1&0&0&1&-3&2  \\\\\n",
    "0&1&0 & -3&3&-1\\\\\n",
    "0&0&1 &2&-1&0\n",
    "\\end{array}\\right] \n",
    "$$\n",
    "\n",
    "&emsp;Thus we know $\\mathbf{A}^{-1} = \\begin{bmatrix}\n",
    "1&-3&2 \\\\\n",
    "-3 & 3 & -1 \\\\\n",
    "2 & -1 & 0\n",
    "\\end{bmatrix}$\n",
    "\n",
    "\n",
    "&emsp;$\\mathbf{A}^{-1}\\mathbf{b} = \n",
    "\\begin{bmatrix}\n",
    "1&-3&2 \\\\\n",
    "-3 & 3 & -1 \\\\\n",
    "2 & -1 & 0\n",
    "\\end{bmatrix}\n",
    "\\begin{bmatrix}\n",
    "-1  \\\\\n",
    "3  \\\\\n",
    "8  \n",
    "\\end{bmatrix} = \n",
    "\\begin{bmatrix}\n",
    "6  \\\\\n",
    "4  \\\\\n",
    "5  \n",
    "\\end{bmatrix}$"
   ]
  },
  {
   "cell_type": "markdown",
   "metadata": {},
   "source": [
    "13. $\\mathbf{A}\\circ\\mathbf{A} =\n",
    "\\begin{bmatrix}\n",
    "1 & 2 & 3 \\\\\n",
    "2 & 4 & 5 \\\\\n",
    "3 & 5 & 6 \n",
    "\\end{bmatrix}\\circ\n",
    "\\begin{bmatrix}\n",
    "1 & 2 & 3 \\\\\n",
    "2 & 4 & 5 \\\\\n",
    "3 & 5 & 6 \n",
    "\\end{bmatrix} =\n",
    "\\begin{bmatrix}\n",
    "1&4&9 \\\\\n",
    "4&16&25 \\\\\n",
    "9&25&36\n",
    "\\end{bmatrix}$"
   ]
  },
  {
   "cell_type": "markdown",
   "metadata": {},
   "source": [
    "14. $\\mathbf{b}\\circ\\mathbf{c} =\n",
    "\\begin{bmatrix}\n",
    "-1  \\\\\n",
    "3  \\\\\n",
    "8  \n",
    "\\end{bmatrix}\n",
    "\\begin{bmatrix}\n",
    "4  \\\\\n",
    "-3  \\\\\n",
    "6 \n",
    "\\end{bmatrix}=\n",
    "\\begin{bmatrix}\n",
    "-4\\\\\n",
    "-9\\\\\n",
    "48\n",
    "\\end{bmatrix}$\n"
   ]
  },
  {
   "cell_type": "markdown",
   "metadata": {},
   "source": [
    "## 6 - part (b)\n",
    "**Eigenvectors and eigenvalues**. Eigenvectors and eigenvalues are useful for some machine learning algorithms, but the concepts take time to solidly grasp. For an intuitive review of these concepts, explore this [interactive website at Setosa.io](http://setosa.io/ev/eigenvectors-and-eigenvalues/). Also, the series of linear algebra videos by Grant Sanderson of 3Brown1Blue are excellent and can be viewed on youtube [here](https://www.youtube.com/playlist?list=PLZHQObOWTQDPD3MizzM2xVFitgF8hE_ab)."
   ]
  },
  {
   "cell_type": "markdown",
   "metadata": {},
   "source": [
    "**ANSWER**\n",
    "\n"
   ]
  },
  {
   "cell_type": "markdown",
   "metadata": {},
   "source": [
    "1\\. Calculate the eigenvalues and corresponding eigenvectors of matrix $\\mathbf{A}$ above, from the last question. <br><br>As shown below, for matrix $\\mathbf{A}$ we have eigenvalues $\\lambda_1 = 11.3448$, $\\lambda_2 = -0.5157$, and $\\lambda_3 = 0.1709$ with corresponding eigenvectors $v_1 = (-0.328, -0.591, -0.737)$, $ v_2 = (-0.737, -0.328, 0.591)$, and $ v_3 = (0.591, -0.737, 0.328)$."
   ]
  },
  {
   "cell_type": "code",
   "execution_count": 1,
   "metadata": {},
   "outputs": [
    {
     "name": "stdout",
     "output_type": "stream",
     "text": [
      "Eigenvectors of A where each ith row represents the ith eigenvector:  [[-0.328 -0.591 -0.737]\n",
      " [-0.737 -0.328  0.591]\n",
      " [ 0.591 -0.737  0.328]]\n",
      "Eigenvalues of A where each ith entry corresponds to the ith eigenvector:  [11.3448 -0.5157  0.1709]\n"
     ]
    }
   ],
   "source": [
    "#1. \n",
    "import numpy as np\n",
    "import numpy.linalg as la\n",
    "#create matrix array in python of A\n",
    "A = np.array([[1,2,3],[2,4,5],[3,5,6]])\n",
    "#get eigenvalues and eigenvectors for A\n",
    "w = la.eig(A)[0]\n",
    "v = la.eig(A)[1]\n",
    "#print transpose of v so eigenvectors are in rows\n",
    "print('Eigenvectors of A where each ith row represents the ith eigenvector: ',np.around(np.matrix.transpose(v), 4))\n",
    "print('Eigenvalues of A where each ith entry corresponds to the ith eigenvector: ',np.around(w, 4))"
   ]
  },
  {
   "cell_type": "markdown",
   "metadata": {},
   "source": [
    "2\\. Choose one of the eigenvector/eigenvalue pairs, $\\mathbf{v}$ and $\\lambda$, and show that $\\mathbf{A} \\mathbf{v} = \\lambda \\mathbf{v}$. Also show that this relationship extends to higher orders: $\\mathbf{A} \\mathbf{A} \\mathbf{v} = \\lambda^2 \\mathbf{v}$"
   ]
  },
  {
   "cell_type": "code",
   "execution_count": 2,
   "metadata": {},
   "outputs": [
    {
     "name": "stdout",
     "output_type": "stream",
     "text": [
      "Av =  [-3.72093206 -6.70488789 -8.36085845]\n",
      "lamv =  [-3.72093206 -6.70488789 -8.36085845]\n",
      "Show that Av = lamv:  [ True  True  True]\n",
      "AAv =  [-42.2132832  -76.06570795 -94.85238636]\n",
      "lambda^2 v [-42.2132832  -76.06570795 -94.85238636]\n",
      "Show that relationship extends to higher orders:  [ True  True  True]\n"
     ]
    }
   ],
   "source": [
    "# 2 choose first eigenvalue and eigenvector from question 1\n",
    "v0 = v[:,0]\n",
    "lam0 = w[0]\n",
    "#show that Av = lam*u\n",
    "Av = np.dot(A,v0)\n",
    "lamv = lam0*v0\n",
    "print('Av = ', Av)\n",
    "print('lamv = ', lamv)\n",
    "Av == lamv\n",
    "# note that Av == lamv does not compute as True currently due to\n",
    "#rounding issues, so we will need to round our values as we did before\n",
    "Av_rd = np.around(Av, 4)\n",
    "lamv_rd = np.around(lamv, 4)\n",
    "#to confirm now equal \n",
    "print('Show that Av = lamv: ', Av_rd == lamv_rd)\n",
    "\n",
    "#for higher orders show AAv = lam^2v\n",
    "#will use same eigenvalue and eigenvector as before\n",
    "AAv = np.dot(np.matmul(A,A),v0)\n",
    "lamsqv = lam0**2 * v0\n",
    "print('AAv = ', AAv)\n",
    "print('lambda^2 v', lamsqv)\n",
    "#look equal, but will have same problem as above\n",
    "#with rounding errors, so will check bool after rounded\n",
    "AAv_rd = np.around(AAv, 4)\n",
    "lamsqv_rd = np.around(lamsqv, 4)\n",
    "print('Show that relationship extends to higher orders: ', AAv_rd == lamsqv_rd)"
   ]
  },
  {
   "cell_type": "markdown",
   "metadata": {},
   "source": [
    "3\\. Show that the eigenvectors are orthogonal to one another (e.g. their inner product is zero). This is true for real, symmetric matrices."
   ]
  },
  {
   "cell_type": "code",
   "execution_count": 3,
   "metadata": {},
   "outputs": [
    {
     "name": "stdout",
     "output_type": "stream",
     "text": [
      "Eigenvector 1:  [-0.32798528 -0.59100905 -0.73697623]\n",
      "Eigenvector 2:  [-0.73697623 -0.32798528  0.59100905]\n",
      "Eigenvector 3:  [ 0.59100905 -0.73697623  0.32798528]\n",
      "v1 dot v2:  -1.1102230246251565e-16\n",
      "v1 dot v3:  -3.885780586188048e-16\n",
      "v3 dot v2:  -5.828670879282072e-16\n",
      "v1 dot v2 == 0:  True\n",
      "v1 dot v3 == 0:  True\n",
      "v3 dot v2 == 0:  True\n"
     ]
    }
   ],
   "source": [
    "# 3\n",
    "#to show the eigenvectors are orthogonal (or perpendicular) we \n",
    "#show that each dot product is equal to zero\n",
    "\n",
    "#create three eigenvectors labeled in the same way as part 1\n",
    "v1 = v[:,0]\n",
    "v2 = v[:,1]\n",
    "v3 = v[:,2]\n",
    "#make sure worked\n",
    "print('Eigenvector 1: ', v1)\n",
    "print('Eigenvector 2: ', v2)\n",
    "print('Eigenvector 3: ', v3)\n",
    "#dot product of eigenvector 1 and 2\n",
    "print('v1 dot v2: ', np.dot(v1, v2))\n",
    "print('v1 dot v3: ', np.dot(v1, v3))\n",
    "print('v3 dot v2: ', np.dot(v3, v2))\n",
    "#while these values are not zero, it is due to rounding issues\n",
    "# as we saw in the other parts of this section, so will round to our\n",
    "# previous standard of 4 decimal places, which gives the following equality comparison\n",
    "print('v1 dot v2 == 0: ', np.around(np.dot(v1,v2))==0)\n",
    "print('v1 dot v3 == 0: ', np.around(np.dot(v1,v3))==0)\n",
    "print('v3 dot v2 == 0: ', np.around(np.dot(v3,v2))==0)"
   ]
  },
  {
   "cell_type": "markdown",
   "metadata": {},
   "source": [
    "# Numerical Programming"
   ]
  },
  {
   "cell_type": "markdown",
   "metadata": {},
   "source": [
    "## 7\n",
    "Speed comparison between vectorized and non-vectorized code. Begin by creating an array of 10 million random numbers using the numpy random.randn module. Compute the sum of the squares first in a for loop, then using Numpy's `dot` module. Time how long it takes to compute each and report the results and report the output. How many times faster is the vectorized code than the for loop approach?\n",
    "\n",
    "*Note: all code should be well commented, properly formatted, and your answers should be output using the `print()` function as follows (where the # represents your answers, to a reasonable precision):\n",
    "\n",
    "`Time [sec] (non-vectorized): ######`\n",
    "\n",
    "`Time [sec] (vectorized):     ######`\n",
    "\n",
    "`The vectorized code is ##### times faster than the vectorized code`"
   ]
  },
  {
   "cell_type": "markdown",
   "metadata": {},
   "source": [
    "**ANSWER**"
   ]
  },
  {
   "cell_type": "code",
   "execution_count": 4,
   "metadata": {},
   "outputs": [],
   "source": [
    "import numpy as np\n",
    "import time\n",
    "\n",
    "# Generate the random samples\n",
    "N = 10000000\n",
    "array = np.random.randn(N)\n",
    "\n",
    "# Compute the sum of squares the non-vec way (using a for loop)\n",
    "# first create new array containing squared values \n",
    "sqarray = []\n",
    "for i in array:\n",
    "    sqarray.append(i**2)\n",
    "# make sure that it worked\n",
    "array[:3]\n",
    "sqarray[:3]\n",
    "# the values are now squared, so will sum these values\n",
    "sqsum = 0\n",
    "for i in sqarray:\n",
    "    sqsum += i\n",
    "#we will combine these two for loops into one so that its \n",
    "#time can be accurately recorded\n",
    "#time first method\n",
    "start_nonvec = time.time()\n",
    "sqsum = 0\n",
    "for i in array:\n",
    "    sqsum += i**2\n",
    "run_nonvec = time.time() - start_nonvec\n",
    "# round to 4 decimal places for readability\n",
    "time_nonvec = np.around(sqsum, decimals = 4)\n"
   ]
  },
  {
   "cell_type": "code",
   "execution_count": 5,
   "metadata": {},
   "outputs": [
    {
     "name": "stdout",
     "output_type": "stream",
     "text": [
      "Value using non-vectorized method: 9996700.5864\n",
      "Value using vectorized method: 9996700.5864\n",
      "Time [sec] (non-vectorized): 5.702\n",
      "Time [sec] (vectorized): 0.0148\n",
      "The vectorized code is  385.9931  times faster than the vectorized code\n"
     ]
    }
   ],
   "source": [
    "\n",
    "# Compute the sum of squares the vectorized way (using numpy)\n",
    "time_vec = np.dot(array, array)\n",
    "#time second method\n",
    "start_vec = time.time()\n",
    "time_vec = np.dot(array, array)\n",
    "run_vec = time.time() - start_vec\n",
    "# round for same reason\n",
    "time_vec = np.around(time_vec, decimals=4)\n",
    "\n",
    "#compare the two recorded times\n",
    "howfast = run_nonvec / run_vec\n",
    "#round\n",
    "howfast = np.around(howfast, decimals=4)\n",
    "howfast\n",
    "# Print the results\n",
    "print('Value using non-vectorized method:', time_nonvec)\n",
    "print('Value using vectorized method:', time_vec)\n",
    "print('Time [sec] (non-vectorized):', np.around(run_nonvec,4))\n",
    "print('Time [sec] (vectorized):', np.around(run_vec,4))\n",
    "print('The vectorized code is ', howfast, ' times faster than the vectorized code')"
   ]
  },
  {
   "cell_type": "markdown",
   "metadata": {},
   "source": [
    "## 8\n",
    "One popular Agile development framework is Scrum (a paradigm recommended for data science projects). It emphasizes the continual evolution of code for projects, becoming progressively better, but starting with a quickly developed minimum viable product. This often means that code written early on is not optimized, and that's a good thing - it's best to get it to work first before optimizing. Imagine that you wrote the following code during a sprint towards getting an end-to-end system working. Vectorize the following code and show the difference in speed between the current implementation and a vectorized version.\n",
    "\n",
    "The function below computes the function $f(x,y) = x^2 - 2 y^2$ and determines whether this quantity is above or below a given threshold, `thresh=0`. This is done for $x,y \\in \\{-4,4\\}$, over a 2,000-by-2,000 grid covering that domain.\n",
    "\n",
    "(a) Vectorize this code and demonstrate (as in the last exercise) the speed increase through vectorization and (b) plot the resulting data - both the function $f(x,y)$ and the thresholded output - using [`imshow`](https://matplotlib.org/api/_as_gen/matplotlib.pyplot.imshow.html?highlight=matplotlib%20pyplot%20imshow#matplotlib.pyplot.imshow) from `matplotlib`.\n",
    "\n",
    "*Hint: look at the `numpy` [`meshgrid`](https://docs.scipy.org/doc/numpy-1.13.0/reference/generated/numpy.meshgrid.html) documentation*"
   ]
  },
  {
   "cell_type": "code",
   "execution_count": 6,
   "metadata": {},
   "outputs": [],
   "source": [
    "import numpy as np\n",
    "import time\n",
    "import matplotlib.pyplot as plt\n",
    "import matplotlib as mpl\n",
    "\n",
    "mpl.rcParams['figure.figsize'] = (9,6)\n",
    "plt.rcParams.update({'font.size': 13})\n",
    "\n",
    "# Initialize variables for this exerise\n",
    "n = 2000\n",
    "xvalues = np.linspace(-4,4,n)\n",
    "yvalues = np.linspace(-4,4,n)\n",
    "thresh = 0\n",
    "\n",
    "# Nonvectorized implementation\n",
    "t0 = time.time()\n",
    "f = np.zeros((n,n))\n",
    "f_thresholded = np.zeros((n,n))\n",
    "for ix, x in enumerate(xvalues):\n",
    "    for iy, y in enumerate(yvalues):\n",
    "        f[ix,iy]             = x**2 - 2 * y**2\n",
    "        f_thresholded[ix,iy] = f[ix,iy] > thresh\n",
    "t1 = time.time()\n",
    "time_nonvectorized = t1 - t0"
   ]
  },
  {
   "cell_type": "code",
   "execution_count": 7,
   "metadata": {},
   "outputs": [
    {
     "name": "stdout",
     "output_type": "stream",
     "text": [
      "Time [sec] (non-vectorized):  9.8263\n",
      "Time [sec] (vectorized):  0.0\n",
      "The vectorized code is 81.4476 times faster than the vectorized code\n"
     ]
    }
   ],
   "source": [
    "# Vectorized implementation\n",
    "t0 = time.time()\n",
    "xv, yv = np.meshgrid(xvalues, yvalues)\n",
    "function = xv**2 - 2*yv**2\n",
    "threshold = function > thresh\n",
    "t1 = time.time()\n",
    "time_vectorized = t1 - t0\n",
    "\n",
    "# Print the time for each and the speed increase\n",
    "howfast = time_nonvectorized / time_vectorized\n",
    "\n",
    "print('Time [sec] (non-vectorized): ', np.around(time_nonvectorized,4))\n",
    "print('Time [sec] (vectorized): ', np.around(time_vectorized))\n",
    "print('The vectorized code is', np.around(howfast,4), 'times faster than the vectorized code')\n"
   ]
  },
  {
   "cell_type": "code",
   "execution_count": 8,
   "metadata": {},
   "outputs": [
    {
     "data": {
      "image/png": "[encoded data removed]",
      "text/plain": [
       "<Figure size 432x288 with 1 Axes>"
      ]
     },
     "metadata": {
      "needs_background": "light"
     },
     "output_type": "display_data"
    }
   ],
   "source": [
    "# Plot the result\n",
    "plt.contourf(xvalues,yvalues,threshold)\n",
    "plt.title('Results of Function Post-Threshold Filter')\n",
    "plt.show()"
   ]
  },
  {
   "cell_type": "markdown",
   "metadata": {},
   "source": [
    "## 9\n",
    "This exercise will walk through some basic numerical programming exercises.\n",
    "1. Synthesize $n=10^4$ normally distributed data points with mean $\\mu=2$ and a standard deviation of $\\sigma=1$. Call these observations from a random variable $X$, and call the vector of observations that you generate, $\\textbf{x}$.\n",
    "2. Calculate the mean and standard deviation of $\\textbf{x}$ to validate (1) and provide the result to a precision of four significant figures.\n",
    "3. Plot a histogram of the data in $\\textbf{x}$ with 30 bins\n",
    "4. What is the 90th percentile of $\\textbf{x}$? The 90th percentile is the value below which 90% of observations can be found.\n",
    "5. What is the 99th percentile of $\\textbf{x}$?\n",
    "6. Now synthesize $n=10^4$ normally distributed data points with mean $\\mu=0$ and a standard deviation of $\\sigma=3$. Call these observations from a random variable $Y$, and call the vector of observations that you generate, $\\textbf{y}$.\n",
    "7. Plot the histogram of the data in $\\textbf{y}$ on a (new) plot with the histogram of $\\textbf{x}$, so that both histograms can be seen and compared.\n",
    "8. Using the observations from $\\textbf{x}$ and $\\textbf{y}$, estimate $E[XY]$"
   ]
  },
  {
   "cell_type": "markdown",
   "metadata": {},
   "source": [
    "**ANSWER**"
   ]
  },
  {
   "cell_type": "code",
   "execution_count": 9,
   "metadata": {},
   "outputs": [
    {
     "name": "stdout",
     "output_type": "stream",
     "text": [
      "2. Calculate the mean and standard deviation values of x\n",
      "mean =  2.0041\n",
      "standard deviation =  0.9957\n",
      "While these values are not exactly the same as the population distribution statistics, we can still validate our work thus far.\n"
     ]
    }
   ],
   "source": [
    "\n",
    "# 1.\n",
    "# create x - vector of observations generated by provided criteria\n",
    "mu = 2\n",
    "sigma = 1\n",
    "x = np.random.normal(mu, sigma, 10000)\n",
    "\n",
    "# 2.\n",
    "# calculate the mean and std deviation for our sample to 4 decimal places\n",
    "print('2. Calculate the mean and standard deviation values of x')\n",
    "print('mean = ', np.around(np.mean(x), decimals=4))\n",
    "print('standard deviation = ', np.around(np.std(x), decimals=4))\n",
    "print('While these values are not exactly the same as the population distribution statistics, we can still validate our work thus far.')"
   ]
  },
  {
   "cell_type": "code",
   "execution_count": 10,
   "metadata": {},
   "outputs": [
    {
     "data": {
      "image/png": "[encoded data removed]",
      "text/plain": [
       "<Figure size 432x288 with 1 Axes>"
      ]
     },
     "metadata": {
      "needs_background": "light"
     },
     "output_type": "display_data"
    }
   ],
   "source": [
    "# 3.\n",
    "n, bins, patches = plt.hist(x, 30, density=True, facecolor='#607c8e', edgecolor='black', linewidth=1)\n",
    "plt.title('Plot of Data - x')\n",
    "plt.show()"
   ]
  },
  {
   "cell_type": "code",
   "execution_count": 11,
   "metadata": {},
   "outputs": [
    {
     "name": "stdout",
     "output_type": "stream",
     "text": [
      "4. The 90th percentile of x is = 3.3027\n"
     ]
    }
   ],
   "source": [
    "# 4\n",
    "#find the 90th percentile\n",
    "per90 = np.around(np.percentile(x, 90), decimals=4)\n",
    "print('4. The 90th percentile of x is =', per90)"
   ]
  },
  {
   "cell_type": "code",
   "execution_count": 12,
   "metadata": {},
   "outputs": [
    {
     "name": "stdout",
     "output_type": "stream",
     "text": [
      "5. The 90th percentile of x is = 4.2998\n"
     ]
    }
   ],
   "source": [
    "# 5\n",
    "#find the 99th percentile\n",
    "per99 = np.around(np.percentile(x, 99), decimals=4)\n",
    "print('5. The 90th percentile of x is =', per99)"
   ]
  },
  {
   "cell_type": "code",
   "execution_count": 13,
   "metadata": {},
   "outputs": [
    {
     "data": {
      "image/png": "[encoded data removed]",
      "text/plain": [
       "<Figure size 432x288 with 1 Axes>"
      ]
     },
     "metadata": {
      "needs_background": "light"
     },
     "output_type": "display_data"
    }
   ],
   "source": [
    "# 6.\n",
    "# create y - vector of observations generated by provided criteria\n",
    "mu = 0\n",
    "sigma = 3\n",
    "y = np.random.normal(mu, sigma, 10000)\n",
    "\n",
    "# 7.\n",
    "bins = np.linspace(-10, 10, 60)\n",
    "plt.hist(x, bins, alpha=0.5, label='x', edgecolor='black')\n",
    "plt.hist(y, bins, alpha=0.5, label='y', edgecolor='black')\n",
    "plt.legend(loc='upper right')\n",
    "plt.title('Plots of Data - x and y - for Comparison')\n",
    "plt.show()"
   ]
  },
  {
   "cell_type": "code",
   "execution_count": 14,
   "metadata": {},
   "outputs": [
    {
     "name": "stdout",
     "output_type": "stream",
     "text": [
      "8. E(XY) = E(X) E(Y) = -0.0083\n"
     ]
    }
   ],
   "source": [
    "# 8.\n",
    "# for normally distributions, we know the expected value is equal to the mean value of that variable\n",
    "# for random, independent observations, we know the joint expected value E(XY) is found by multiplying the expected values of each variable\n",
    "# which gives us E(XY) = E(X)E(Y), calculated below:\n",
    "expect_x = np.mean(x)\n",
    "expect_y = np.mean(y)\n",
    "expect_xy = np.around(expect_x*expect_y, decimals=4)\n",
    "print('8. E(XY) = E(X) E(Y) =', expect_xy)"
   ]
  },
  {
   "cell_type": "markdown",
   "metadata": {},
   "source": [
    "## 10\n",
    "Estimate the integral of the function $f(x)$ on the interval $0\\leq x < 2.5$ assuming we only know the following points from $f$:\n",
    "\n",
    "*Table 1. Dataset containing n=5 observations*\n",
    "\n",
    "| $x_i$ | 0.0 | 0.5 | 1.0 | 1.5 | 2.0 |\n",
    "|-|-|-|-|-|-|\n",
    "| $y_i$ | 6 | 7 | 8 | 4 | 1 |\n"
   ]
  },
  {
   "cell_type": "markdown",
   "metadata": {},
   "source": [
    "**ANSWER**\n",
    "\n",
    "To estimate the integral of a discrete data set, we can use different rules like the Trapezoidal rule, but in this case because we are also extrapolating a data point for $x = 2.5$, we will estimate a function that fits the data and integrate."
   ]
  },
  {
   "cell_type": "code",
   "execution_count": 15,
   "metadata": {},
   "outputs": [
    {
     "data": {
      "image/png": "[encoded data removed]",
      "text/plain": [
       "<Figure size 432x288 with 1 Axes>"
      ]
     },
     "metadata": {
      "needs_background": "light"
     },
     "output_type": "display_data"
    }
   ],
   "source": [
    "#first input the data we have \n",
    "import scipy.integrate as integrate\n",
    "x = np.array([0,.5,1,1.5,2])\n",
    "y = np.array([6,7,8,4,1])\n",
    "#want the degree to be small enough that doesn't overfit\n",
    "#but large enough that it seems to accurately fit the dat\n",
    "z2 = np.polyfit(x, y, 2)\n",
    "f2 = np.poly1d(z2)\n",
    "z3 = np.polyfit(x, y, 3)\n",
    "f3 = np.poly1d(z3)\n",
    "z4 = np.polyfit(x, y, 4)\n",
    "f4 = np.poly1d(z4)\n",
    "xp = np.linspace(0,3,num=100,endpoint=False)\n",
    "plt.plot(x,y,'ko', label='Original Data')\n",
    "plt.plot(2.5,f4(2.5),'k*', markersize=10, label='2.5 Extrapolated from Fourth Degree')\n",
    "plt.plot(xp,f2(xp),'g-', label='Second Degree')\n",
    "plt.plot(xp,f3(xp),'r-', label='Third Degree')\n",
    "plt.plot(xp,f4(xp),'b-', label='Fourth Degree')\n",
    "plt.legend()\n",
    "plt.show()"
   ]
  },
  {
   "cell_type": "markdown",
   "metadata": {},
   "source": [
    "From this plot, it seems like the fourth degree polynomial is the best fit without getting into overfitting problems. This function is given by: $$f(x) = 7.333x^4 + 28.67x^3 + 30.17x^2 - 6.833x +6$$\n",
    "which we find by using the values corresponding with the variable f4 in the above code. We will integrate as usual for the given range to approximate the integral value, which we will call $k$:\n",
    "\\begin{align}\n",
    "k &= \\int_{0}^{2.5} 7.333x^4 + 28.67x^3 + 30.17x^2 - 6.833x +6 f(x) \\,dx \\\\\n",
    "&= \\left( 1.4666x^5 + 7.1675x^4 + 10.0567x^3 - 3.4165x^2 + 6x \\Big|_{x=0}^{2.5} \\right) \\\\\n",
    "&= 573.985\n",
    "\\end{align}"
   ]
  },
  {
   "cell_type": "markdown",
   "metadata": {
    "collapsed": true
   },
   "source": [
    "# Version Control via Git"
   ]
  },
  {
   "cell_type": "markdown",
   "metadata": {},
   "source": [
    "## 11\n",
    "Complete the [Atlassian Git tutorial](https://www.atlassian.com/git/tutorials/what-is-version-control), specifically the following sections. Try each concept that's presented. For this tutorial, instead of using BitBucket, use Github. Create a github account here if you don't already have one: https://github.com/\n",
    "1. [What is version control](https://www.atlassian.com/git/tutorials/what-is-version-control)\n",
    "2. [What is Git](https://www.atlassian.com/git/tutorials/what-is-git)\n",
    "3. [Install Git](https://www.atlassian.com/git/tutorials/install-git)\n",
    "4. [Setting up a repository](https://www.atlassian.com/git/tutorials/install-git)\n",
    "5. [Saving changes](https://www.atlassian.com/git/tutorials/saving-changes)\n",
    "6. [Inspecting a repository](https://www.atlassian.com/git/tutorials/inspecting-a-repository)\n",
    "7. [Undoing changes](https://www.atlassian.com/git/tutorials/undoing-changes)\n",
    "8. [Rewriting history](https://www.atlassian.com/git/tutorials/rewriting-history)\n",
    "9. [Syncing](https://www.atlassian.com/git/tutorials/syncing)\n",
    "10. [Making a pull request](https://www.atlassian.com/git/tutorials/making-a-pull-request)\n",
    "11. [Using branches](https://www.atlassian.com/git/tutorials/using-branches)\n",
    "12. [Comparing workflows](https://www.atlassian.com/git/tutorials/comparing-workflows)\n",
    "\n",
    "For your answer, affirm that you either completed the tutorial or have previous experience with all of the concepts above. Do this by typing your name below and selecting the situation that applies from the two options in brackets."
   ]
  },
  {
   "cell_type": "markdown",
   "metadata": {},
   "source": [
    "**ANSWER**\n",
    "\n",
    "_I, __Kate Coulter__, affirm that I have __completed the above tutorial__._"
   ]
  },
  {
   "cell_type": "markdown",
   "metadata": {},
   "source": [
    "## 12\n",
    "Using Github to create a static HTML website:\n",
    "1. Create a branch in your `machine-learning-course` repo called \"gh-pages\" and checkout that branch (this will provide an example of how to create a simple static website using [Github Pages](https://pages.github.com/))\n",
    "2. Create a file called \"index.html\" with the contents \"Hello World\" and add, commit, and push it to that branch.\n",
    "3. Submit the following: (a) a link to your github repository and (b) a link to your new \"Hello World\" website. The latter should be at the address https://[USERNAME].github.io/ECE590-assignment0 (where [USERNAME] is your github username)."
   ]
  },
  {
   "cell_type": "markdown",
   "metadata": {},
   "source": [
    "**ANSWER**\n",
    "\n",
    "(a) https://github.com/katecoulter/machine-learning-course\n",
    "<br>\n",
    "(b) https://katecoulter.github.io/machine-learning-course/\n"
   ]
  },
  {
   "cell_type": "markdown",
   "metadata": {
    "collapsed": true
   },
   "source": [
    "# Exploratory Data Analysis\n",
    "## 13\n",
    "Here you'll bring together some of the individual skills that you demonstrated above and create a Jupyter notebook based blog post on data analysis.\n",
    "\n",
    "1. Find a dataset that interests you and relates to a question or problem that you find intriguing\n",
    "2. Using a Jupyter notebook, describe the dataset, the source of the data, and the reason the dataset was of interest.\n",
    "3. Check the data and see if they need to be cleaned: are there missing values? Are there clearly erroneous values? Do two tables need to be merged together? Clean the data so it can be visualized.\n",
    "3. Plot the data, demonstrating interesting features that you discover. Are there any relationships between variables that were surprising or patterns that emerged? Please exercise creativity and curiosity in your plots.\n",
    "4. What insights are you able to take away from exploring the data? Is there a reason why analyzing the dataset you chose is particularly interesting or important? Summarize this as if your target audience was the readership of a major news organization - boil down your findings in a way that is accessible, but still accurate.\n",
    "5. Create a public repository on your github account titled \"machine-learning-course\". In it, create a readme file that contains the heading \"ECE590: Introductory Machine Learning for Data Science\". Add, commit, and push that Jupyter notebook to the master branch. Provide the link to the that post here."
   ]
  },
  {
   "cell_type": "markdown",
   "metadata": {},
   "source": [
    "**ANSWER**\n",
    "\n",
    "- github jupyter notebook: https://github.com/katecoulter/machine-learning-course/blob/master/HDI-Indicators-2018.ipynb\n",
    "- github PDF: https://github.com/katecoulter/machine-learning-course/blob/master/HDI-Indicators-2018.pdf\n",
    "- gitlab jupyter notebook: https://gitlab.oit.duke.edu/ids705-sp19/katecoulter/blob/master/HDI-Indicators-2018.ipynb\n",
    "- gitlab PDF: https://gitlab.oit.duke.edu/ids705-sp19/katecoulter/blob/master/HDI-Indicators-2018.pdf\n",
    "\n",
    "Note that in addition to the jupyter notebooks and files for this question existing both in github and gitlab, the plots and data (raw and clean) are also available."
   ]
  }
 ],
 "metadata": {
  "kernelspec": {
   "display_name": "Python 3",
   "language": "python",
   "name": "python3"
  },
  "language_info": {
   "codemirror_mode": {
    "name": "ipython",
    "version": 3
   },
   "file_extension": ".py",
   "mimetype": "text/x-python",
   "name": "python",
   "nbconvert_exporter": "python",
   "pygments_lexer": "ipython3",
   "version": "3.7.0"
  }
 },
 "nbformat": 4,
 "nbformat_minor": 2
}
